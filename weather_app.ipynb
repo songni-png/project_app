{
 "cells": [
  {
   "cell_type": "code",
   "execution_count": null,
   "id": "f4cf3bc2",
   "metadata": {},
   "outputs": [],
   "source": [
    "import streamlit as st\n",
    "import requests\n",
    "\n",
    "# API 정보 설정\n",
    "API_KEY = \"6c7075664f6a756e3130397876735a4a\"  # OpenAPI에서 발급받은 인증키 입력\n",
    "BASE_URL = \"http://openapi.seoul.go.kr:8088\"\n",
    "SERVICE_NAME = \"citydata\"\n",
    "START_INDEX = 1\n",
    "END_INDEX = 5\n",
    "AREA_NAME = \"광화문·덕수궁\"  # 원하는 지역명을 입력\n",
    "REQUEST_TYPE = \"xml\"\n",
    "\n",
    "# Streamlit UI 구성\n",
    "st.title(\"🌤 서울시 실시간 날씨 정보\")\n",
    "\n",
    "# 사용자 입력: 지역 선택\n",
    "area_options = [\"광화문·덕수궁\", \"강남역\", \"홍대입구\", \"서울역\", \"건대입구\"]\n",
    "selected_area = st.selectbox(\"날씨를 확인할 지역을 선택하세요:\", area_options)\n",
    "\n",
    "# API 요청 URL 구성\n",
    "url = f\"{BASE_URL}/{API_KEY}/{REQUEST_TYPE}/{SERVICE_NAME}/{START_INDEX}/{END_INDEX}/{selected_area}\"\n",
    "\n",
    "# API 요청 및 응답\n",
    "response = requests.get(url)\n",
    "\n",
    "if response.status_code == 200:\n",
    "    st.success(\"✅ 날씨 정보를 성공적으로 가져왔습니다!\")\n",
    "    st.text(response.text)  # XML 데이터를 출력 (향후 JSON 변환 가능)\n",
    "else:\n",
    "    st.error(f\"❌ 오류 발생: {response.status_code}\")\n",
    "\n",
    "# 실행 방법 안내\n",
    "st.info(\"🔹 이 코드는 Streamlit을 통해 실행되며, GitHub에 업로드하여 배포 가능합니다.\")\n",
    "\n"
   ]
  }
 ],
 "metadata": {
  "language_info": {
   "name": "python"
  }
 },
 "nbformat": 4,
 "nbformat_minor": 5
}
